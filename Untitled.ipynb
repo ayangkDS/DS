{
 "cells": [
  {
   "cell_type": "code",
   "execution_count": 1,
   "metadata": {},
   "outputs": [
    {
     "name": "stdout",
     "output_type": "stream",
     "text": [
      "subscription, 1, 2, 3, 4, 5, 6, 7, 8, 9, 10, 11, 12, total revenue\n",
      "public, 4256, 4227, 4238, 4241, 4284, 4207, 4250, 4285, 4270, 4317, 4213, 4252, 0.00\n",
      "personal, 503, 515, 526, 511, 470, 523, 491, 464, 496, 462, 528, 512, 48008.00\n",
      "business, 97, 107, 90, 103, 102, 107, 92, 102, 96, 92, 95, 104, 14244.00\n"
     ]
    }
   ],
   "source": [
    "import csv\n",
    "import random\n",
    "\n",
    "random.seed(99)\n",
    "\n",
    "avgview = 1000\n",
    "num_donations = 100\n",
    "totalview = (avgview * num_donations)\n",
    "\n",
    "high_conv_rate = 0.05\n",
    "low_conv_rate = 0.01\n",
    "\n",
    "good_cust = int(totalview  * high_conv_rate)\n",
    "bad_cust = int(totalview * low_conv_rate)\n",
    "\n",
    "\n",
    "public_thresh = 0.85\n",
    "personal_thresh = 0.95\n",
    "business_thresh = 0.98\n",
    "\n",
    "\n",
    "thresholds = [\n",
    "    lambda t: t <= public_thresh,\n",
    "    lambda t: t > public_thresh and t <= personal_thresh,\n",
    "    lambda t: t > business_thresh\n",
    "]\n",
    "\n",
    "\n",
    "subscriptions = []\n",
    "\n",
    "for i in range(12):\n",
    "  sub_model_amts = [0,0,0]\n",
    "\n",
    "  for j in range(good_cust):\n",
    "    threshold_rand = random.random()\n",
    "    for k, threshold_proc in enumerate(thresholds):\n",
    "      if threshold_proc(threshold_rand):\n",
    "        sub_model_amts[k] += 1\n",
    "\n",
    "  subscriptions.extend(sub_model_amts)\n",
    "\n",
    "tiers = ['public','personal','business']\n",
    "tier_revenues = [0, 8, 12]\n",
    "\n",
    "print(f'subscription, 1, 2, 3, 4, 5, 6, 7, 8, 9, 10, 11, 12, total revenue')\n",
    "for i, tier in enumerate(tiers):\n",
    "    data = subscriptions[i::len(tiers)]\n",
    "    total_subs = sum(data)\n",
    "    total_rev = total_subs * tier_revenues[i]\n",
    "    print(f'{tier}, {data[0]}, {data[1]}, {data[2]}, {data[3]}, {data[4]}, {data[5]}, {data[6]}, {data[7]}, {data[8]}, {data[9]}, {data[10]}, {data[11]}, {total_rev:.2f}')\n",
    "\n",
    "\n"
   ]
  },
  {
   "cell_type": "code",
   "execution_count": 2,
   "metadata": {},
   "outputs": [
    {
     "name": "stdout",
     "output_type": "stream",
     "text": [
      "subscription, 1, 2, 3, 4, 5, 6, 7, 8, 9, 10, 11, 12, total revenue\n",
      "public, 4256, 4227, 4238, 4241, 4284, 4207, 4250, 4285, 4270, 4317, 4213, 4252, 0.00\n",
      "personal, 503, 515, 526, 511, 470, 523, 491, 464, 496, 462, 528, 512, 57048.00\n",
      "business, 97, 107, 90, 103, 102, 107, 92, 102, 96, 92, 95, 104, 16896.00\n"
     ]
    }
   ],
   "source": [
    "for i in range(12):\n",
    "  sub_model_amts = [0,0,0]\n",
    "\n",
    "  for j in range(bad_cust):\n",
    "    threshold_rand = random.random()\n",
    "    for k, threshold_proc in enumerate(thresholds):\n",
    "      if threshold_proc(threshold_rand):\n",
    "        sub_model_amts[k] += 1\n",
    "\n",
    "  subscriptions.extend(sub_model_amts)\n",
    "\n",
    "tiers = ['public','personal','business']\n",
    "tier_revenues = [0, 8, 12]\n",
    "\n",
    "print(f'subscription, 1, 2, 3, 4, 5, 6, 7, 8, 9, 10, 11, 12, total revenue')\n",
    "for i, tier in enumerate(tiers):\n",
    "    data = subscriptions[i::len(tiers)]\n",
    "    total_subs = sum(data)\n",
    "    total_rev = total_subs * tier_revenues[i]\n",
    "    print(f'{tier}, {data[0]}, {data[1]}, {data[2]}, {data[3]}, {data[4]}, {data[5]}, {data[6]}, {data[7]}, {data[8]}, {data[9]}, {data[10]}, {data[11]}, {total_rev:.2f}')\n"
   ]
  },
  {
   "cell_type": "code",
   "execution_count": null,
   "metadata": {},
   "outputs": [],
   "source": []
  }
 ],
 "metadata": {
  "kernelspec": {
   "display_name": "Python 3",
   "language": "python",
   "name": "python3"
  },
  "language_info": {
   "codemirror_mode": {
    "name": "ipython",
    "version": 3
   },
   "file_extension": ".py",
   "mimetype": "text/x-python",
   "name": "python",
   "nbconvert_exporter": "python",
   "pygments_lexer": "ipython3",
   "version": "3.7.6"
  }
 },
 "nbformat": 4,
 "nbformat_minor": 4
}
